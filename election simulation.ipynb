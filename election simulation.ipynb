{
 "cells": [
  {
   "cell_type": "markdown",
   "metadata": {},
   "source": [
    "# COMS W1002 Computing in Context: Computational Finance  \n",
    "## Election Simulation\n",
    "(Original version Created by Karl Sigman)  \n",
    "(Modified by Cannon)"
   ]
  },
  {
   "cell_type": "markdown",
   "metadata": {},
   "source": [
    "**Monte Carlo Simulations**\n",
    "using Monte Carlo Simulation to estimate stuff\n",
    "- have a random experiment \n",
    "    --> success = 1\n",
    "    --> failure = 0\n",
    "    \n",
    "ex: reach into drawer, w 3 colors of 16 socks, red, green, blue (but dont know how many of each sock ), randomly pick out, whats the prob of picking a blue sock? using MC simulation, how many blue socks do we have?\n",
    "    - pull out sock at random \n",
    "        - blue sock = success 1\n",
    "        - red or green sock = fail 0 \n",
    "        \n",
    "lets say... pull out sock.. its BLUE! success! ... this is 1 trial\n",
    "- repeat this 1 trial n times\n",
    "\n",
    "lets say n = 100, and after repeating trial 100 times, got blue socks 26 times... prob of getting blue sock = 0.26\n",
    "so.... 0.26*16 = ~ \n",
    "4 \n"
   ]
  },
  {
   "cell_type": "markdown",
   "metadata": {},
   "source": [
    "**NOTES**\n",
    "- every state has a number of electoral votes associated with it (every state gets a number of points to vote in the presidential election)\n",
    "    - 2 free points + a number dependent on its population\n",
    "    - and DC gets 3 electoral votes\n",
    "    - 51 separate electoral college races (assume all winnner-takes-all)\n",
    "- the outcome of the 51 separate electoral college races is the coin flip (some weifhted, some not... ex: we know whos gonna win alabama)\n",
    "\n",
    "- 538 total electoral vote\n",
    "- need 270 to win\n",
    "- possible to have both candidates win 269\n",
    "\n",
    "- how many ways are there to get a tie? --> how many possible different additions make up 269 points for each candidate? \n",
    "    - how many combinations of the 51 outcomes (and their unique electoral college votes) will make up 269 poitns each?\n",
    "    \n",
    "- experiment = 1 election = 51 races\n",
    "- flip coin for Dc \n",
    "    --> heads = 3 votes for A\n",
    "    --> tails = 0 votes for A\n",
    "-flip coin for Cali\n",
    "    --> heads = 25 votes for A\n",
    "    --> tails = 0 votes for A\n",
    "- do this 51 times... if A has 269 electoral college votes --> success!\n",
    "- do that, a million times! then divide by total number of wins (ties = success = total number of times we get 269 votes) --> gives probabiity of tie occuring\n",
    "   - then multiply byt the total number of ways it could've gone (2^51) = estimate of the total number of ways the election could get a tie\n",
    "- dont have to worry abt candidate B\n",
    "\n",
    "- can just do fair coin flips for the probablity of getting a tie\n"
   ]
  },
  {
   "cell_type": "markdown",
   "metadata": {},
   "source": [
    "__Problem 1:__ (40 points)\n",
    "Using the 51 [Electoral College](https://www.archives.gov/electoral-college/2000) numbers that were used in the 2000 USA Presidential Election, estimate the number of ways there could have been a tie in the 2000 Presidential Election.  Use Monte Carlo simulation (using *iid* Bernoulli (1/2); e.g., a fair coin flip for each state) to simulate many elections. The fraction of elections that end in tie multiplied by the number of possible outcomes is your estimate. The exact answer to this question was determined in 2009 by K. Sigman and O. Watanabe to be 17,150,271,124,366. Your estimate should be fairly close to that number. \n",
    "\n",
    "\n",
    "Repeat using the [EC numbers](https://www.archives.gov/electoral-college/2020) from the 2020 election. That is create a new list of EC values and feed it to your function.\n",
    "\n",
    "***To earn full marks you must write a parameterized function as described in the comments below to perform your simulation. Do not change the function header.***"
   ]
  },
  {
   "cell_type": "markdown",
   "metadata": {},
   "source": [
    "**Problem 1 README**\n",
    "For this project, I first create a list, A_results, of True False values to represent winning or losing the election, then I create a list, A_votes, of EC votes to match if the candidate won or lost that state. Next I sum up A_votes and if that sum is 269, that means a tie has occured. I run this simulation of an election 1 million times then divide the tie count by 1 million to get the probabiity of a tie occuring. Lastly I multiply by 2^51 in order to get the number of possibilities of a tie occuring in 51 \"states\"\n",
    "\n",
    "I named the lists A_results and A_votes using A so it represents candidate A. A_results represents the results of the state and A_votes is the specific EC votes of each state given a win"
   ]
  },
  {
   "cell_type": "code",
   "execution_count": 325,
   "metadata": {},
   "outputs": [
    {
     "name": "stdout",
     "output_type": "stream",
     "text": [
      "result 2000:  17203750576555.295\n",
      "result 2020:  17070894387547.865\n"
     ]
    }
   ],
   "source": [
    "import random\n",
    "\n",
    "# list the EC values for the 2000 election\n",
    "v_2000 = [9, 3, 8, 6, 54, 8, 8, 3, 3, 25, 13, 4, 4, \n",
    "          22, 12, 7, 6, 8, 9, 4, 10, 12, 18, 10, 7, \n",
    "          11, 3, 5, 4, 4, 15, 5, 33, 14, 3, 21, 8, 7, \n",
    "          23, 4, 8, 3, 11, 32, 5, 3, 13, 11, 5, 11, 3] \n",
    "\n",
    "# list the EC values for the 2020 election\n",
    "v_2020 = [9, 3, 11, 6, 55, 9, 7, 3, 3, 29, 16, 4, 4, \n",
    "          20, 11, 6, 6, 8, 8, 4, 10, 11, 16, 10, 6, 10, \n",
    "          3, 5, 6, 4, 14, 5, 29, 15, 3, 18, 7, 7, 20, \n",
    "          4, 9, 3, 11, 38, 6, 3, 13, 12, 5, 10, 3]\n",
    "\n",
    "# the parameters are as follows:\n",
    "# ec: this is the list of EC values to be used in your simulation\n",
    "# target: this is the number of EC values candidate 1 should win\n",
    "# trials: this is the number of trials you MC simulation should use\n",
    "\n",
    "def target_estimator(ec, target,trials):\n",
    "    tie = 0\n",
    "    \n",
    "    for i in range(trials):\n",
    "        A_results = [random.random() < 0.5 for i in ec]\n",
    "        # creates a list of True or False values by generating a float \n",
    "        # and comparing it to 0.5\n",
    "        # represents the flipping of a coin\n",
    "        A_votes = [ec[i] if A_results[i] else 0 for i in range(len(A_results))]\n",
    "        #creates a list of either the EC vote if True or 0 if False\n",
    "        \n",
    "        if sum(A_votes) == target:\n",
    "            tie += 1\n",
    "     \n",
    "    return (tie/trials)*(2**51)\n",
    "    \n",
    "# now we use the function to determine the number of ways a tie can occur\n",
    "# which is equivalent to candidate 1 winning 269 votes\n",
    "result_2000 = target_estimator(v_2000,269,1000000)\n",
    "result_2020 = target_estimator(v_2020,269,1000000)\n",
    "\n",
    "print('result 2000: ',result_2000)\n",
    "print('result 2020: ',result_2020)"
   ]
  },
  {
   "cell_type": "markdown",
   "metadata": {},
   "source": [
    "__Problem 2:__ In the year 2000 (Bush versus Gore), the situation right before the election was this: Bush had (in his pocket) 24 states totaling 210 EC votes, while Gore had 10 states totaling 146 EC votes. There were 17 states left over, the “Battleground States”, in which it was supposedly unclear who would win them. Look at the file [2000.pdf](http://www.cs.columbia.edu/~cannon/2000.pdf) to see exactly what states made up the 17, and the EC numbers for them.\n",
    "\n",
    "__Part I:__ (30 points) First assume that each Battleground State outcome is determined by an *iid* fair coin toss; Bernoulli (1/2). Simulate (using 1 million copies to average, using Monte Carlo) to obtain the probability that Bush would win the election, and the probability that Gore would win the election, and the probability of a tie.\n",
    "\n",
    "***To earn full marks you must write a parameterized function as described in the comments below to perform your simulation. Do not change the function header.***"
   ]
  },
  {
   "cell_type": "markdown",
   "metadata": {},
   "source": [
    "**Problem 2 README** For this problem I followed the same form of problem 1, except this time I had to consider how many votes each candidate had already won. \n",
    "\n",
    "Focusing on the leftover 17 states, I created a list, bg_results, of True False values to represent winning or losing the states, then I created a list, bg_votes, of either EC vote amounts or 0 given a win or a loss in the battleground states. Next I summed up the bg_votes and added it to the number of votes a candidate already had, and checked if it was greater than 269 votes, meaning a win. Finally I run this election simulation 1 million times then divide the number of wins by 1 million to get the probability of winning for the candidate.\n",
    "\n",
    "I named the lists bg_results and bg_votes using bg as it stands for battleground. bg_results represents the results of the state and bg_votes is the specific EC votes of each state given a win"
   ]
  },
  {
   "cell_type": "code",
   "execution_count": 326,
   "metadata": {},
   "outputs": [
    {
     "name": "stdout",
     "output_type": "stream",
     "text": [
      "Bush win:  0.879792\n",
      "Gore win:  0.112557\n",
      "tie:  0.007459\n",
      "tie:  0.007657\n"
     ]
    }
   ],
   "source": [
    "v_in_play= [6, 3, 25, 22, 7, 4, 18, 10, \n",
    "            11, 4, 4, 7, 23, 11, 11, 5, 11] \n",
    "#list EC values that remain in play\n",
    "\n",
    "# this function returns an estimate for the probability that candidate 1\n",
    "# wins in a US Presidential election given that they already have\n",
    "# ec_in_the_bag EC votes.\n",
    "\n",
    "\n",
    "# v_left is a list of the remaining EC numbers,\n",
    "# trials is the number of trials to be used in the MC simulation.\n",
    "# This function assumes that the probability of winning any remaining state\n",
    "# is 0.5\n",
    "\n",
    "def ec_estimator(ec_in_the_bag, v_left,trials):\n",
    "    win = 0\n",
    "\n",
    "    for i in range(trials):\n",
    "        bg_results = [random.random() < 0.5 for i in v_left] \n",
    "        bg_votes = [v_left[i] if bg_results[i] else 0 for i in range(len(bg_results))]\n",
    "        \n",
    "        if sum(bg_votes) + ec_in_the_bag > 269:\n",
    "            win += 1\n",
    "            \n",
    "    return (win/trials)\n",
    "\n",
    "# estimate for Bush win\n",
    "print('Bush win: ',ec_estimator(210,v_in_play,1000000))\n",
    "\n",
    "# estimate for Gore win\n",
    "print('Gore win: ',ec_estimator(146,v_in_play,1000000))\n",
    "\n",
    "#estimate for Tie\n",
    "print('tie: ',target_estimator(v_in_play,269-146,1000000)/2**51)\n",
    "\n",
    "#check that it's the same (close) with\n",
    "print('tie: ',target_estimator(v_in_play,269-210,1000000)/2**51)"
   ]
  },
  {
   "cell_type": "markdown",
   "metadata": {},
   "source": [
    " __Part II:__ (30 points) In the [2000.pdf](http://www.cs.columbia.edu/~cannon/2000.pdf) file, you will also see the probabilities that had been determined by extensive polling for Gore winning each of the 17 states. Denote these probabilities by $p_1,...,p_{17}$. No longer are they all *p = 1/2* as we assumed in Part I. For example, for the state of Wisconsin (WI), *p = 0.946*, while for the state of Nevada (NV), p = 0.146. Only for the state of Maine (ME) is p = 0.5. Now re-do the simulation in Part I using the 17 Bernoulli $(p_i)$. The idea now is that each of the 17 states has its own coin so to speak.\n",
    " \n",
    "***You can do this one however you wish but someone who uses a parameterized function or functions for doing this will earn more points than someone that does not***\n",
    "\n",
    "##create list of tuples or something"
   ]
  },
  {
   "cell_type": "markdown",
   "metadata": {},
   "source": [
    "**Problem 3 README**\n",
    "This problem is very similar to part 1 except this time each state has its own unique probabilty of a candidate winning (which is more accurat eto real life). Thus, I used the same process for part 1 except this time each state got a roll of a dice with a unique probability, not just a 50-50 chance.\n",
    "\n",
    "I used a list of tuples to hold the information about each state with the first element being p1 through p17 to label the 17 states, the second element being the state's unique probability of Gore winning, and the last element being the number of electoral college votes the state holds. This way, everything is lined up proberly and to get the probabilties of Bush winning any state I just have to subtract the second element of a tuple from 1. \n",
    "\n",
    "Just like in problem 1 I named my lists using A to represent candidate A, results to represent the results of states, and votes to represent EC votes. \n",
    "\n",
    "For the function I returned a tuple so that I could return both the probability of a tie and the probability of either Bush or Gore winning and the same time."
   ]
  },
  {
   "cell_type": "code",
   "execution_count": 323,
   "metadata": {},
   "outputs": [
    {
     "name": "stdout",
     "output_type": "stream",
     "text": [
      "Bush wins: 0.14285\n",
      "Gore wins: 0.845107\n",
      "tie: 0.010706\n",
      "tie: 0.010741\n"
     ]
    }
   ],
   "source": [
    "state_info= [('p1', 0.395, 6), ('p2', 0.143, 3), ('p3', 0.893, 25), ('p4', 0.999, 22), \n",
    "             ('p5', 0.420, 7), ('p6', 0.5, 4), ('p7', 0.997, 18), ('p8', 0.999, 10), \n",
    "             ('p9',0.236, 11), ('p10', 0.146, 4), ('p11', 0.731, 4), ('p12', 0.602, 7), \n",
    "             ('p13', 0.989, 23), ('p14', 0.289, 11), ('p15', 0.753, 11), ('p16', 0.302, 5),\n",
    "             ('p17', 0.942, 11)]\n",
    "\n",
    "def real_estimate(info, target, v_won, trials):\n",
    "    state_prob = [i[1] for i in info]\n",
    "    # list of the probability that Gore wins for each battleground state\n",
    "    state_vote = [i[2] for i in info]\n",
    "    # list of the EC votes for each battleground state\n",
    "    \n",
    "    tie = 0\n",
    "    win = 0\n",
    "    \n",
    "    for i in range(trials):\n",
    "        A_results = []\n",
    "        \n",
    "        # if statements allow users to test for the probabilities for either\n",
    "        # Bush or Gore, as they have diff probabilities of winning the battleground states\n",
    "        if v_won == 146:\n",
    "            A_results = [random.random() < i for i in state_prob]\n",
    "            # like flipping a coin a new time for each state for Gore's probabilities of winning\n",
    "        if v_won == 210:\n",
    "            A_results = [random.random() < 1-i for i in state_prob]\n",
    "            # like flipping a coin a new time for each state but for Bush's probabilities of winning\n",
    "        \n",
    "        A_votes = [state_vote[i] if A_results[i] else 0 for i in range(len(A_results))]\n",
    "        # creates a list either of EC votes if True or 0 if False\n",
    "        \n",
    "        if sum(A_votes) + v_won == target:\n",
    "            tie += 1\n",
    "        if sum(A_votes) + v_won > target:\n",
    "            win += 1\n",
    "  \n",
    "    return tie/trials, win/trials\n",
    "\n",
    "B_tie, B_win = real_estimate(state_info, 269, 210, 1000000)\n",
    "G_tie, G_win = real_estimate(state_info, 269, 146, 1000000)\n",
    "\n",
    "print('Bush wins:', B_win)\n",
    "# estimate for Bush win\n",
    "\n",
    "print('Gore wins:', G_win)\n",
    "# estimate for a Gore win\n",
    "\n",
    "print('tie:', B_tie) \n",
    "# estimate for a tie \n",
    "\n",
    "print('tie:', G_tie)\n",
    "# check that its the same (close) "
   ]
  }
 ],
 "metadata": {
  "kernelspec": {
   "display_name": "Python 3",
   "language": "python",
   "name": "python3"
  },
  "language_info": {
   "codemirror_mode": {
    "name": "ipython",
    "version": 3
   },
   "file_extension": ".py",
   "mimetype": "text/x-python",
   "name": "python",
   "nbconvert_exporter": "python",
   "pygments_lexer": "ipython3",
   "version": "3.8.8"
  }
 },
 "nbformat": 4,
 "nbformat_minor": 1
}
